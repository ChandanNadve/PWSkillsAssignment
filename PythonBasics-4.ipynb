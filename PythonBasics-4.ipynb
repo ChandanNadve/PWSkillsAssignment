{
 "cells": [
  {
   "cell_type": "markdown",
   "metadata": {},
   "source": [
    "# TOPIC: Python Basics Variable"
   ]
  },
  {
   "cell_type": "markdown",
   "metadata": {},
   "source": [
    "1. Declare two variables, `x` and `y`, and assign them integer values. Swap the\n",
    "values of these variables without using any temporary variable."
   ]
  },
  {
   "cell_type": "code",
   "execution_count": 1,
   "metadata": {},
   "outputs": [
    {
     "name": "stdout",
     "output_type": "stream",
     "text": [
      "The Values of x is 12 and y is 10 before swapping\n",
      "The Values of x is 10 and y is 12 after swapping\n"
     ]
    }
   ],
   "source": [
    "x=int(input(f\"Enter the Value of x:\"))\n",
    "y=int(input(f\"Enter the Value of y:\"))\n",
    "print(f\"The Values of x is {x} and y is {y} before swapping\")\n",
    "x,y=y,x\n",
    "print(f\"The Values of x is {x} and y is {y} after swapping\")"
   ]
  },
  {
   "cell_type": "markdown",
   "metadata": {},
   "source": [
    "2. Create a program that calculates the area of a rectangle. Take the length and\n",
    "width as inputs from the user and store them in variables. Calculate and\n",
    "display the area."
   ]
  },
  {
   "cell_type": "code",
   "execution_count": 3,
   "metadata": {},
   "outputs": [
    {
     "name": "stdout",
     "output_type": "stream",
     "text": [
      "This Program Calculates the area of rectangle\n",
      "The Length of is rectangle 21 and width of rectangle 32\n",
      "The area of triangle is 672\n"
     ]
    }
   ],
   "source": [
    "print('This Program Calculates the area of rectangle')\n",
    "l= int(input(f\"Enter the length of rectangle:\"))\n",
    "w= int(input(f\"Enter the width of reactangle:\"))\n",
    "area=l*w\n",
    "print(f\"The Length of is rectangle {l} and width of rectangle {w}\")\n",
    "print(f\"The area of triangle is {area}\")"
   ]
  },
  {
   "cell_type": "markdown",
   "metadata": {},
   "source": [
    "3. Write a Python program that converts temperatures from Celsius to\n",
    "Fahrenheit. Take the temperature in Celsius as input, store it in a variable,\n",
    "convert it to Fahrenheit, and display the result."
   ]
  },
  {
   "cell_type": "code",
   "execution_count": 4,
   "metadata": {},
   "outputs": [
    {
     "name": "stdout",
     "output_type": "stream",
     "text": [
      "The temperature in Celsius is 26 and Faranhete is 78.80000000000001\n"
     ]
    }
   ],
   "source": [
    "celsius=int(input(\"Enter the temperature in Celsius\"))\n",
    "faranhete=(9/5*celsius) + 32\n",
    "print(f\"The temperature in Celsius is {celsius} and Faranhete is {faranhete}\")"
   ]
  },
  {
   "cell_type": "markdown",
   "metadata": {},
   "source": [
    "# TOPIC: String Based Questions"
   ]
  },
  {
   "cell_type": "markdown",
   "metadata": {},
   "source": [
    "1. Write a Python program that takes a string as input and prints the length of\n",
    "the string."
   ]
  },
  {
   "cell_type": "code",
   "execution_count": 5,
   "metadata": {},
   "outputs": [
    {
     "name": "stdout",
     "output_type": "stream",
     "text": [
      "The string is Hello! Welcome to PWSkills!\n",
      "The length of string is 27\n"
     ]
    }
   ],
   "source": [
    "s=input(\"Enter a string to find length:\")\n",
    "print(f\"The string is {s}\")\n",
    "l=len(s)\n",
    "print(f\"The length of string is {l}\")"
   ]
  },
  {
   "cell_type": "markdown",
   "metadata": {},
   "source": [
    "2. Create a program that takes a sentence from the user and counts the number\n",
    "of vowels (a, e, i, o, u) in the string."
   ]
  },
  {
   "cell_type": "code",
   "execution_count": 11,
   "metadata": {},
   "outputs": [
    {
     "name": "stdout",
     "output_type": "stream",
     "text": [
      "The string is Hello, Welcome to PWSkills Course of Data Science\n",
      "The number of Vowels in the string are 16\n"
     ]
    }
   ],
   "source": [
    "s=input(\"Enter a string to find length:\")\n",
    "print(f\"The string is {s}\")\n",
    "n=0\n",
    "for i in s:\n",
    "    a=i.lower()\n",
    "    if (a=='a')|(a=='e')|(a=='i')|(a=='o')|(a=='u'):\n",
    "        n=n+1\n",
    "    else:\n",
    "        pass\n",
    "print(f\"The number of Vowels in the string are {n}\")"
   ]
  },
  {
   "cell_type": "markdown",
   "metadata": {},
   "source": [
    "3. Given a string, reverse the order of characters using string slicing and print\n",
    "the reversed string."
   ]
  },
  {
   "cell_type": "code",
   "execution_count": 12,
   "metadata": {},
   "outputs": [
    {
     "name": "stdout",
     "output_type": "stream",
     "text": [
      "The string is 'Hello!'\n",
      "The Reverse of string is !olleH\n"
     ]
    }
   ],
   "source": [
    "s=input(\"Enter a string to find reverse string:\")\n",
    "print(f\"The string is '{s}'\")\n",
    "print(f\"The Reverse of string is {s[::-1]}\")"
   ]
  },
  {
   "cell_type": "markdown",
   "metadata": {},
   "source": [
    "4. Write a program that takes a string as input and checks if it is a palindrome\n",
    "(reads the same forwards and backwards)."
   ]
  },
  {
   "cell_type": "code",
   "execution_count": 14,
   "metadata": {},
   "outputs": [
    {
     "name": "stdout",
     "output_type": "stream",
     "text": [
      "The string is 'ram'\n",
      "The Reverse of string is mar\n",
      "The String is not Palindrome\n"
     ]
    }
   ],
   "source": [
    "s=input(\"Enter a string to find Palindrome:\")\n",
    "print(f\"The string is '{s}'\")\n",
    "rs=s[::-1]\n",
    "print(f\"The Reverse of string is {rs}\")\n",
    "if s==rs:\n",
    "    print(\"The String is Palindrome\")\n",
    "else:\n",
    "    print(\"The String is not Palindrome\")"
   ]
  },
  {
   "cell_type": "markdown",
   "metadata": {},
   "source": [
    "5. Create a program that takes a string as input and removes all the spaces from\n",
    "it. Print the modified string without spaces."
   ]
  },
  {
   "cell_type": "code",
   "execution_count": 16,
   "metadata": {},
   "outputs": [
    {
     "name": "stdout",
     "output_type": "stream",
     "text": [
      "The string is 'Hello this is PW Skills Lab'\n",
      "The string after removing space is 'HellothisisPWSkillsLab'\n"
     ]
    }
   ],
   "source": [
    "s=input(\"Enter a string for removing space:\")\n",
    "print(f\"The string is '{s}'\")\n",
    "ns=s.replace(\" \",\"\")\n",
    "print(f\"The string after removing space is '{ns}'\")"
   ]
  }
 ],
 "metadata": {
  "kernelspec": {
   "display_name": "Python 3",
   "language": "python",
   "name": "python3"
  },
  "language_info": {
   "codemirror_mode": {
    "name": "ipython",
    "version": 3
   },
   "file_extension": ".py",
   "mimetype": "text/x-python",
   "name": "python",
   "nbconvert_exporter": "python",
   "pygments_lexer": "ipython3",
   "version": "3.10.11"
  },
  "orig_nbformat": 4
 },
 "nbformat": 4,
 "nbformat_minor": 2
}
